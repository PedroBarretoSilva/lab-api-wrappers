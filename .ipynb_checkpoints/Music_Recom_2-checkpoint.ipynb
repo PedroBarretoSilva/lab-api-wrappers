{
 "cells": [
  {
   "cell_type": "markdown",
   "id": "7396859f",
   "metadata": {},
   "source": [
    "# Importing the required Libraries"
   ]
  },
  {
   "cell_type": "code",
   "execution_count": 41,
   "id": "16d7ddec",
   "metadata": {},
   "outputs": [
    {
     "name": "stdout",
     "output_type": "stream",
     "text": [
      "Requirement already satisfied: spotipy in c:\\users\\pbsil\\anaconda3\\lib\\site-packages (2.20.0)\n",
      "Requirement already satisfied: redis>=3.5.3 in c:\\users\\pbsil\\anaconda3\\lib\\site-packages (from spotipy) (4.3.4)\n",
      "Requirement already satisfied: requests>=2.25.0 in c:\\users\\pbsil\\anaconda3\\lib\\site-packages (from spotipy) (2.26.0)\n",
      "Requirement already satisfied: urllib3>=1.26.0 in c:\\users\\pbsil\\anaconda3\\lib\\site-packages (from spotipy) (1.26.7)\n",
      "Requirement already satisfied: six>=1.15.0 in c:\\users\\pbsil\\anaconda3\\lib\\site-packages (from spotipy) (1.16.0)\n",
      "Requirement already satisfied: async-timeout>=4.0.2 in c:\\users\\pbsil\\anaconda3\\lib\\site-packages (from redis>=3.5.3->spotipy) (4.0.2)\n",
      "Requirement already satisfied: deprecated>=1.2.3 in c:\\users\\pbsil\\anaconda3\\lib\\site-packages (from redis>=3.5.3->spotipy) (1.2.13)\n",
      "Requirement already satisfied: packaging>=20.4 in c:\\users\\pbsil\\anaconda3\\lib\\site-packages (from redis>=3.5.3->spotipy) (21.0)\n",
      "Requirement already satisfied: wrapt<2,>=1.10 in c:\\users\\pbsil\\anaconda3\\lib\\site-packages (from deprecated>=1.2.3->redis>=3.5.3->spotipy) (1.12.1)\n",
      "Requirement already satisfied: pyparsing>=2.0.2 in c:\\users\\pbsil\\anaconda3\\lib\\site-packages (from packaging>=20.4->redis>=3.5.3->spotipy) (3.0.4)\n",
      "Requirement already satisfied: certifi>=2017.4.17 in c:\\users\\pbsil\\anaconda3\\lib\\site-packages (from requests>=2.25.0->spotipy) (2021.10.8)\n",
      "Requirement already satisfied: idna<4,>=2.5 in c:\\users\\pbsil\\anaconda3\\lib\\site-packages (from requests>=2.25.0->spotipy) (3.2)\n",
      "Requirement already satisfied: charset-normalizer~=2.0.0 in c:\\users\\pbsil\\anaconda3\\lib\\site-packages (from requests>=2.25.0->spotipy) (2.0.4)\n"
     ]
    }
   ],
   "source": [
    "!pip install spotipy\n",
    "\n",
    "\n",
    "import pandas as pd\n",
    "from pandas import json_normalize\n",
    "\n",
    "import json\n",
    "import time\n",
    "from time import sleep\n",
    "\n",
    "\n",
    "import argparse\n",
    "\n",
    "\n",
    "\n",
    "from bs4 import BeautifulSoup\n",
    "import requests\n",
    "\n",
    "import logging \n",
    "\n",
    "from random import randint\n",
    "\n",
    "import spotipy\n",
    "from spotipy.oauth2 import SpotifyClientCredentials\n",
    "\n",
    "\n",
    "from tqdm import tqdm"
   ]
  },
  {
   "cell_type": "code",
   "execution_count": 42,
   "id": "6de45f62",
   "metadata": {},
   "outputs": [],
   "source": [
    "# Activating the connection with Spotify"
   ]
  },
  {
   "cell_type": "code",
   "execution_count": 43,
   "id": "6981cc6b",
   "metadata": {},
   "outputs": [
    {
     "data": {
      "text/plain": [
       "{'cid': '1494c9ab8ec34eccbb5e038f7aeda283',\n",
       " 'csecret': 'c8a535dc026d4b3195464dd1f5258d38'}"
      ]
     },
     "execution_count": 43,
     "metadata": {},
     "output_type": "execute_result"
    }
   ],
   "source": [
    "secrets_file = open(\"secrets.txt\",\"r\")\n",
    "\n",
    "string = secrets_file.read()\n",
    "string\n",
    "string.split('\\n')\n",
    "\n",
    "secrets_dict={}\n",
    "for line in string.split('\\n'):\n",
    "    if len(line) > 0:\n",
    "        secrets_dict[line.split(':')[0]]=line.split(':')[1]\n",
    "\n",
    "secrets_dict\n",
    "        \n",
    "        \n"
   ]
  },
  {
   "cell_type": "code",
   "execution_count": null,
   "id": "6fbf8871",
   "metadata": {},
   "outputs": [],
   "source": []
  },
  {
   "cell_type": "code",
   "execution_count": 44,
   "id": "d4ce2858",
   "metadata": {},
   "outputs": [],
   "source": [
    "sp = spotipy.Spotify(auth_manager=SpotifyClientCredentials(client_id=secrets_dict['cid'],\n",
    "                                                           client_secret=secrets_dict['csecret']))\n"
   ]
  },
  {
   "cell_type": "code",
   "execution_count": null,
   "id": "a85dd8d0",
   "metadata": {},
   "outputs": [],
   "source": []
  },
  {
   "cell_type": "markdown",
   "id": "bdced1c3",
   "metadata": {},
   "source": [
    "# Designing a function to get Playlists from Spotify"
   ]
  },
  {
   "cell_type": "code",
   "execution_count": 45,
   "id": "cd1786b5",
   "metadata": {},
   "outputs": [],
   "source": [
    "def get_playlist_tracks(playlist_id):\n",
    "    results = sp.user_playlist_tracks(\"spotify\",playlist_id)\n",
    "    tracks = results['items']\n",
    "    while results['next']!=None:\n",
    "        results = sp.next(results)\n",
    "        tracks = tracks + results['items']\n",
    "        sleep(randint(1,3))                      # scraping in a respectful manner\n",
    "    return tracks"
   ]
  },
  {
   "cell_type": "markdown",
   "id": "e2aad1cf",
   "metadata": {},
   "source": [
    "# Designing a function to extract songs from a playlist"
   ]
  },
  {
   "cell_type": "code",
   "execution_count": 46,
   "id": "daff5d7f",
   "metadata": {},
   "outputs": [
    {
     "ename": "SyntaxError",
     "evalue": "invalid syntax (Temp/ipykernel_8828/776825463.py, line 4)",
     "output_type": "error",
     "traceback": [
      "\u001b[1;36m  File \u001b[1;32m\"C:\\Users\\pbsil\\AppData\\Local\\Temp/ipykernel_8828/776825463.py\"\u001b[1;36m, line \u001b[1;32m4\u001b[0m\n\u001b[1;33m    for track is x :\u001b[0m\n\u001b[1;37m                   ^\u001b[0m\n\u001b[1;31mSyntaxError\u001b[0m\u001b[1;31m:\u001b[0m invalid syntax\n"
     ]
    }
   ],
   "source": [
    "def musicas_spotify(x) :\n",
    "\n",
    "    artista_nome=[]\n",
    "    for track is x :\n",
    "        track_uri.append(track['track']['uri'])   \n",
    "   \n",
    "\n",
    "# Nota: the funtion get_playlist_tracks will produce the return \"tracks\", which shall be used as \"x\" in the function\n",
    "# musicas_spotify\n",
    "        "
   ]
  },
  {
   "cell_type": "markdown",
   "id": "a25d9bb6",
   "metadata": {},
   "source": [
    "# Using the functions above "
   ]
  },
  {
   "cell_type": "code",
   "execution_count": 48,
   "id": "f4633bd5",
   "metadata": {},
   "outputs": [
    {
     "ename": "SyntaxError",
     "evalue": "invalid syntax (<unknown>, line 1)",
     "output_type": "error",
     "traceback": [
      "Traceback \u001b[1;36m(most recent call last)\u001b[0m:\n",
      "  File \u001b[0;32m\"C:\\Users\\pbsil\\anaconda3\\lib\\site-packages\\IPython\\core\\interactiveshell.py\"\u001b[0m, line \u001b[0;32m3444\u001b[0m, in \u001b[0;35mrun_code\u001b[0m\n    exec(code_obj, self.user_global_ns, self.user_ns)\n",
      "  File \u001b[0;32m\"C:\\Users\\pbsil\\AppData\\Local\\Temp/ipykernel_8828/3094844992.py\"\u001b[0m, line \u001b[0;32m1\u001b[0m, in \u001b[0;35m<module>\u001b[0m\n    get_ipython().run_cell_magic('time', '', '\\nplaylist_1 = get_playlist_tracks (4rnleEAOdmFAbRcNCgZMpY) # importing a playlist\\n\\nplaylist_1\\n\\n# Grupo_musicas1 = musicas_spotify(playlist_1)   # extracting the musics from the playlist\\n\\n# Grupo_musicas1\\n')\n",
      "  File \u001b[0;32m\"C:\\Users\\pbsil\\anaconda3\\lib\\site-packages\\IPython\\core\\interactiveshell.py\"\u001b[0m, line \u001b[0;32m2406\u001b[0m, in \u001b[0;35mrun_cell_magic\u001b[0m\n    result = fn(*args, **kwargs)\n",
      "  File \u001b[0;32m\"C:\\Users\\pbsil\\anaconda3\\lib\\site-packages\\decorator.py\"\u001b[0m, line \u001b[0;32m232\u001b[0m, in \u001b[0;35mfun\u001b[0m\n    return caller(func, *(extras + args), **kw)\n",
      "  File \u001b[0;32m\"C:\\Users\\pbsil\\anaconda3\\lib\\site-packages\\IPython\\core\\magic.py\"\u001b[0m, line \u001b[0;32m187\u001b[0m, in \u001b[0;35m<lambda>\u001b[0m\n    call = lambda f, *a, **k: f(*a, **k)\n",
      "  File \u001b[0;32m\"C:\\Users\\pbsil\\anaconda3\\lib\\site-packages\\IPython\\core\\magics\\execution.py\"\u001b[0m, line \u001b[0;32m1280\u001b[0m, in \u001b[0;35mtime\u001b[0m\n    expr_ast = self.shell.compile.ast_parse(expr)\n",
      "\u001b[1;36m  File \u001b[1;32m\"C:\\Users\\pbsil\\anaconda3\\lib\\site-packages\\IPython\\core\\compilerop.py\"\u001b[1;36m, line \u001b[1;32m101\u001b[1;36m, in \u001b[1;35mast_parse\u001b[1;36m\u001b[0m\n\u001b[1;33m    return compile(source, filename, symbol, self.flags | PyCF_ONLY_AST, 1)\u001b[0m\n",
      "\u001b[1;36m  File \u001b[1;32m\"<unknown>\"\u001b[1;36m, line \u001b[1;32m1\u001b[0m\n\u001b[1;33m    playlist_1 = get_playlist_tracks (4rnleEAOdmFAbRcNCgZMpY) # importing a playlist\u001b[0m\n\u001b[1;37m                                       ^\u001b[0m\n\u001b[1;31mSyntaxError\u001b[0m\u001b[1;31m:\u001b[0m invalid syntax\n"
     ]
    }
   ],
   "source": [
    "%%time\n",
    "\n",
    "playlist_1 = get_playlist_tracks (4rnleEAOdmFAbRcNCgZMpY) # importing a playlist\n",
    "\n",
    "playlist_1\n",
    "\n",
    "# Grupo_musicas1 = musicas_spotify(playlist_1)   # extracting the musics from the playlist\n",
    "\n",
    "# Grupo_musicas1"
   ]
  },
  {
   "cell_type": "code",
   "execution_count": null,
   "id": "c2137396",
   "metadata": {},
   "outputs": [],
   "source": []
  },
  {
   "cell_type": "code",
   "execution_count": null,
   "id": "71d7f70b",
   "metadata": {},
   "outputs": [],
   "source": []
  },
  {
   "cell_type": "code",
   "execution_count": null,
   "id": "820a1eb1",
   "metadata": {},
   "outputs": [],
   "source": []
  },
  {
   "cell_type": "code",
   "execution_count": null,
   "id": "51a5798a",
   "metadata": {},
   "outputs": [],
   "source": []
  },
  {
   "cell_type": "code",
   "execution_count": null,
   "id": "2db46287",
   "metadata": {},
   "outputs": [],
   "source": []
  },
  {
   "cell_type": "code",
   "execution_count": null,
   "id": "61f90173",
   "metadata": {},
   "outputs": [],
   "source": []
  },
  {
   "cell_type": "code",
   "execution_count": null,
   "id": "308ebab3",
   "metadata": {},
   "outputs": [],
   "source": []
  },
  {
   "cell_type": "markdown",
   "id": "e8592c47",
   "metadata": {},
   "source": [
    "# Searching songs with 'queries' with sp.search"
   ]
  },
  {
   "cell_type": "code",
   "execution_count": null,
   "id": "a326dc9d",
   "metadata": {},
   "outputs": [],
   "source": [
    "results = sp.search(q='Lady Gaga', limit=50)   # making a query to ask for the first 50 songs of Lady Gaga\n",
    "results   # in the case of Spotify, this is a dictionary"
   ]
  },
  {
   "cell_type": "code",
   "execution_count": null,
   "id": "470da724",
   "metadata": {},
   "outputs": [],
   "source": [
    "results.keys() # as we can see, this first dictionary has only 1 elemnt, so we need to explore it further"
   ]
  },
  {
   "cell_type": "code",
   "execution_count": null,
   "id": "3cce1855",
   "metadata": {},
   "outputs": [],
   "source": [
    "results[\"tracks\"].keys()  # the list below gives information that seems to refer to details ragarding each song  \n"
   ]
  },
  {
   "cell_type": "code",
   "execution_count": null,
   "id": "220dd6ef",
   "metadata": {},
   "outputs": [],
   "source": [
    "results[\"tracks\"][\"items\"][0] # after exploring , we came to know that the \"items\" key refers to the song_ID. \n",
    "                                # let´s check which song is the first one [0]"
   ]
  },
  {
   "cell_type": "code",
   "execution_count": null,
   "id": "da47ced8",
   "metadata": {},
   "outputs": [],
   "source": [
    "# each song is described by another sub-dictionary, with very long content. So to have an overview about its content, we´ll\n",
    "# ask for the keys of this specific dictionary"
   ]
  },
  {
   "cell_type": "code",
   "execution_count": null,
   "id": "e5499383",
   "metadata": {},
   "outputs": [],
   "source": [
    "results[\"tracks\"][\"items\"][0].keys()"
   ]
  },
  {
   "cell_type": "code",
   "execution_count": null,
   "id": "7429e229",
   "metadata": {},
   "outputs": [],
   "source": [
    "# let´s check the content of the album\n",
    "\n",
    "results[\"tracks\"][\"items\"][0][\"album\"].keys()"
   ]
  },
  {
   "cell_type": "code",
   "execution_count": null,
   "id": "98e6dc0d",
   "metadata": {},
   "outputs": [],
   "source": [
    "#let´s see the name of the album\n",
    "\n",
    "results[\"tracks\"][\"items\"][0][\"album\"][\"name\"]   # this the the bottom line. \"name\" is not a dictionary anymore but a simple\n",
    "                                                    # direct information"
   ]
  },
  {
   "cell_type": "code",
   "execution_count": null,
   "id": "dd7b9826",
   "metadata": {},
   "outputs": [],
   "source": []
  },
  {
   "cell_type": "code",
   "execution_count": null,
   "id": "88b92af5",
   "metadata": {},
   "outputs": [],
   "source": []
  },
  {
   "cell_type": "code",
   "execution_count": null,
   "id": "5e5322c0",
   "metadata": {},
   "outputs": [],
   "source": []
  },
  {
   "cell_type": "code",
   "execution_count": null,
   "id": "8732c46a",
   "metadata": {},
   "outputs": [],
   "source": []
  },
  {
   "cell_type": "code",
   "execution_count": null,
   "id": "052f8c5f",
   "metadata": {},
   "outputs": [],
   "source": []
  },
  {
   "cell_type": "code",
   "execution_count": null,
   "id": "36053e4c",
   "metadata": {},
   "outputs": [],
   "source": []
  }
 ],
 "metadata": {
  "kernelspec": {
   "display_name": "Python 3 (ipykernel)",
   "language": "python",
   "name": "python3"
  },
  "language_info": {
   "codemirror_mode": {
    "name": "ipython",
    "version": 3
   },
   "file_extension": ".py",
   "mimetype": "text/x-python",
   "name": "python",
   "nbconvert_exporter": "python",
   "pygments_lexer": "ipython3",
   "version": "3.9.7"
  }
 },
 "nbformat": 4,
 "nbformat_minor": 5
}
