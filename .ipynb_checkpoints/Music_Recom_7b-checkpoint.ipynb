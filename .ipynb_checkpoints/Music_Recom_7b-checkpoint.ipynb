{
 "cells": [
  {
   "cell_type": "markdown",
   "id": "701a300a",
   "metadata": {},
   "source": [
    "# Importing the Required Libraries"
   ]
  },
  {
   "cell_type": "code",
   "execution_count": null,
   "id": "174e2a1b",
   "metadata": {},
   "outputs": [],
   "source": [
    "\n",
    "import pandas as pd\n",
    "\n",
    "\n",
    "from bs4 import BeautifulSoup\n",
    "import requests\n",
    "\n",
    "from pandas import json_normalize\n",
    "import json\n",
    "import spotipy\n",
    "\n",
    "from spotipy.oauth2 import SpotifyClientCredentials\n",
    "import time\n",
    "import argparse\n",
    "import logging \n",
    "\n",
    "from random import randint\n",
    "\n",
    "from time import sleep\n",
    "\n",
    "from tqdm import tqdm\n",
    "\n",
    "\n",
    "import numpy as np\n",
    "\n",
    "import matplotlib.pyplot as plt\n",
    "\n",
    "from sklearn import cluster, datasets\n",
    "from sklearn.preprocessing import StandardScaler\n",
    "from matplotlib.lines import Line2D\n",
    "\n",
    "from sklearn.neighbors import KNeighborsClassifier\n",
    "\n",
    "from sklearn.cluster import KMeans\n"
   ]
  },
  {
   "cell_type": "markdown",
   "id": "38c708ce",
   "metadata": {},
   "source": [
    "# Importing the Data"
   ]
  },
  {
   "cell_type": "code",
   "execution_count": null,
   "id": "b0ca90d1",
   "metadata": {},
   "outputs": [],
   "source": [
    "\n",
    "\n",
    "Grupo_musicas1 = pd.read_csv ('Grupo_musicas1.csv')\n",
    "Grupo_musicas2 = pd.read_csv ('Grupo_musicas2.csv')\n",
    "\n",
    "Total_Musicas1 = pd.concat([Grupo_musicas1,Grupo_musicas2], axis=0).reset_index(drop=True)\n",
    "Total_Musicas2 = Totas_Musicas1.drop.duplicates(subset = 'Song_code')\n",
    " \n",
    "\n"
   ]
  },
  {
   "cell_type": "code",
   "execution_count": null,
   "id": "99088b95",
   "metadata": {},
   "outputs": [],
   "source": []
  },
  {
   "cell_type": "markdown",
   "id": "8b49e747",
   "metadata": {},
   "source": [
    "# Creating a Matrix X to use in the clustering (only the Music´ Features)"
   ]
  },
  {
   "cell_type": "code",
   "execution_count": null,
   "id": "87452e7b",
   "metadata": {},
   "outputs": [],
   "source": [
    "X=Total_Musicas2[['ft_danceability','ft_energy','ft_key','ft_loudness','ft_mode',\n",
    "                 'ft_speechiness','ft_accousticness','ft_instrumentalness','ft_liveness','ft_valence',\n",
    "                 'ft_tempo','ft_track_href','ft_analysis_url','ft_time_signature','ft_duration_ms']]\n",
    "\n"
   ]
  },
  {
   "cell_type": "code",
   "execution_count": null,
   "id": "df723e1c",
   "metadata": {},
   "outputs": [],
   "source": [
    "# Scalling the Matrix X\n",
    "\n",
    "scaler = StandardScaler()\n",
    "X_transf = scaler.fit_transform(X)"
   ]
  },
  {
   "cell_type": "code",
   "execution_count": null,
   "id": "355aaf34",
   "metadata": {},
   "outputs": [],
   "source": []
  },
  {
   "cell_type": "code",
   "execution_count": null,
   "id": "f7521748",
   "metadata": {},
   "outputs": [],
   "source": [
    "# Before we divide the musics into clusters, we need to define how many clusters we should use\n",
    "# STEP_1 - 1st we choose range for the possible nr of clusters  (Elbow Method - min Intertia, with a not very high nr of clusters)\n",
    "# STEP_2 - 2nd we choose the optimal nr of clusters (max Silhuete)"
   ]
  },
  {
   "cell_type": "code",
   "execution_count": null,
   "id": "1f41fe5f",
   "metadata": {},
   "outputs": [],
   "source": [
    "# STEP_1 "
   ]
  },
  {
   "cell_type": "code",
   "execution_count": null,
   "id": "bc8eebb3",
   "metadata": {},
   "outputs": [],
   "source": [
    "K = range (2,50)\n",
    "inertia = []\n",
    "\n",
    "\n",
    "for k in k :    \n",
    "    kmeans = Kmeans(n_clusters=k, random_state=42) \n",
    "    kmeans.fit(X_transf)\n",
    "    inertia.append(kmeans.inertia_)\n",
    "\n",
    "%matplotlib inline\n",
    "\n",
    "plt.figure(figsize=16,8))\n",
    "plt.plot(K, inertia, 'bx-')\n",
    "plt.xlabel('k')\n",
    "plt.ylabel('inertia')\n",
    "plt.xticks(np.aranqe(min(K),max(K)+1,1.0))\n",
    "plt.title('Elbow Method to choose the optimal k nr of clusters')\n",
    "\n"
   ]
  },
  {
   "cell_type": "code",
   "execution_count": null,
   "id": "6acceb5b",
   "metadata": {},
   "outputs": [],
   "source": []
  },
  {
   "cell_type": "code",
   "execution_count": null,
   "id": "04813807",
   "metadata": {},
   "outputs": [],
   "source": []
  },
  {
   "cell_type": "code",
   "execution_count": null,
   "id": "95b9bab6",
   "metadata": {},
   "outputs": [],
   "source": []
  },
  {
   "cell_type": "code",
   "execution_count": null,
   "id": "89f5b94d",
   "metadata": {},
   "outputs": [],
   "source": []
  },
  {
   "cell_type": "code",
   "execution_count": null,
   "id": "6d57518b",
   "metadata": {},
   "outputs": [],
   "source": []
  },
  {
   "cell_type": "code",
   "execution_count": null,
   "id": "bd33ee54",
   "metadata": {},
   "outputs": [],
   "source": [
    "kmeans = KMeans(n_cluster = 30, random_state = 42)\n",
    "kmeans.fit(X_transf)\n",
    "\n",
    "clusters= kmeans.predict(X_transf)   # breaks X into 30 clusters\n"
   ]
  },
  {
   "cell_type": "code",
   "execution_count": null,
   "id": "ae571519",
   "metadata": {},
   "outputs": [],
   "source": [
    "clusters   # returns a list with the cluster nr where each music was stored"
   ]
  },
  {
   "cell_type": "code",
   "execution_count": null,
   "id": "fc5422e0",
   "metadata": {},
   "outputs": [],
   "source": [
    "pd.Series(clusters).value_counts()    # nr of songs stored on each of the 30 clusters"
   ]
  },
  {
   "cell_type": "code",
   "execution_count": null,
   "id": "cf17a15b",
   "metadata": {},
   "outputs": [],
   "source": []
  },
  {
   "cell_type": "code",
   "execution_count": null,
   "id": "77ca100c",
   "metadata": {},
   "outputs": [],
   "source": []
  },
  {
   "cell_type": "code",
   "execution_count": null,
   "id": "0ce4660d",
   "metadata": {},
   "outputs": [],
   "source": []
  }
 ],
 "metadata": {
  "kernelspec": {
   "display_name": "Python 3 (ipykernel)",
   "language": "python",
   "name": "python3"
  },
  "language_info": {
   "codemirror_mode": {
    "name": "ipython",
    "version": 3
   },
   "file_extension": ".py",
   "mimetype": "text/x-python",
   "name": "python",
   "nbconvert_exporter": "python",
   "pygments_lexer": "ipython3",
   "version": "3.9.7"
  }
 },
 "nbformat": 4,
 "nbformat_minor": 5
}
