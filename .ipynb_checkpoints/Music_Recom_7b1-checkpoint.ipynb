{
 "cells": [
  {
   "cell_type": "markdown",
   "id": "701a300a",
   "metadata": {},
   "source": [
    "# Importing the Required Libraries"
   ]
  },
  {
   "cell_type": "code",
   "execution_count": 2,
   "id": "174e2a1b",
   "metadata": {},
   "outputs": [],
   "source": [
    "\n",
    "import pandas as pd\n",
    "\n",
    "\n",
    "from bs4 import BeautifulSoup\n",
    "import requests\n",
    "\n",
    "from pandas import json_normalize\n",
    "import json\n",
    "import spotipy\n",
    "\n",
    "from spotipy.oauth2 import SpotifyClientCredentials\n",
    "import time\n",
    "import argparse\n",
    "import logging \n",
    "\n",
    "from random import randint\n",
    "\n",
    "from time import sleep\n",
    "\n",
    "from tqdm import tqdm\n",
    "\n",
    "\n",
    "import numpy as np\n",
    "\n",
    "import matplotlib.pyplot as plt\n",
    "\n",
    "from sklearn import cluster, datasets\n",
    "from sklearn.preprocessing import StandardScaler\n",
    "from matplotlib.lines import Line2D\n",
    "\n",
    "from sklearn.neighbors import KNeighborsClassifier\n",
    "\n",
    "from sklearn.cluster import KMeans\n",
    "\n",
    "from sklearn.metrics import silhouette_score\n"
   ]
  },
  {
   "cell_type": "markdown",
   "id": "483a6a25",
   "metadata": {},
   "source": [
    "# Activating the connection with Spotify"
   ]
  },
  {
   "cell_type": "code",
   "execution_count": null,
   "id": "8105a498",
   "metadata": {},
   "outputs": [],
   "source": [
    "secrets_file = open(\"secrets.txt\",\"r\")\n",
    "\n",
    "string = secrets_file.read()\n",
    "string\n",
    "string.split('\\n')\n",
    "\n",
    "secrets_dict={}\n",
    "for line in string.split('\\n'):\n",
    "    if len(line) > 0:\n",
    "        secrets_dict[line.split(':')[0]]=line.split(':')[1]\n",
    "\n",
    "secrets_dict\n"
   ]
  },
  {
   "cell_type": "code",
   "execution_count": null,
   "id": "d1eb51cf",
   "metadata": {},
   "outputs": [],
   "source": [
    "sp = spotipy.Spotify(auth_manager=SpotifyClientCredentials(client_id=secrets_dict['cid'],\n",
    "                                                           client_secret=secrets_dict['csecret']))\n"
   ]
  },
  {
   "cell_type": "markdown",
   "id": "38c708ce",
   "metadata": {},
   "source": [
    "# Importing the Data"
   ]
  },
  {
   "cell_type": "code",
   "execution_count": 9,
   "id": "b0ca90d1",
   "metadata": {},
   "outputs": [
    {
     "data": {
      "text/html": [
       "<div>\n",
       "<style scoped>\n",
       "    .dataframe tbody tr th:only-of-type {\n",
       "        vertical-align: middle;\n",
       "    }\n",
       "\n",
       "    .dataframe tbody tr th {\n",
       "        vertical-align: top;\n",
       "    }\n",
       "\n",
       "    .dataframe thead th {\n",
       "        text-align: right;\n",
       "    }\n",
       "</style>\n",
       "<table border=\"1\" class=\"dataframe\">\n",
       "  <thead>\n",
       "    <tr style=\"text-align: right;\">\n",
       "      <th></th>\n",
       "      <th>Artist</th>\n",
       "      <th>Song</th>\n",
       "    </tr>\n",
       "  </thead>\n",
       "  <tbody>\n",
       "    <tr>\n",
       "      <th>0</th>\n",
       "      <td>Dua Lipa &amp; DaBaby</td>\n",
       "      <td>Levitating</td>\n",
       "    </tr>\n",
       "    <tr>\n",
       "      <th>1</th>\n",
       "      <td>Olivia Rodrigo</td>\n",
       "      <td>Drivers License</td>\n",
       "    </tr>\n",
       "    <tr>\n",
       "      <th>2</th>\n",
       "      <td>The Weeknd &amp; Ariana Grande</td>\n",
       "      <td>Save Your Tears</td>\n",
       "    </tr>\n",
       "    <tr>\n",
       "      <th>3</th>\n",
       "      <td>Lil Nas X</td>\n",
       "      <td>Montero (Call Me by Your Name)</td>\n",
       "    </tr>\n",
       "    <tr>\n",
       "      <th>4</th>\n",
       "      <td>The Weeknd</td>\n",
       "      <td>Blinding Lights</td>\n",
       "    </tr>\n",
       "    <tr>\n",
       "      <th>...</th>\n",
       "      <td>...</td>\n",
       "      <td>...</td>\n",
       "    </tr>\n",
       "    <tr>\n",
       "      <th>95</th>\n",
       "      <td>Marshmello &amp; Jonas Brothers</td>\n",
       "      <td>Leave Before You Love Me</td>\n",
       "    </tr>\n",
       "    <tr>\n",
       "      <th>96</th>\n",
       "      <td>Maneskin</td>\n",
       "      <td>Beggin</td>\n",
       "    </tr>\n",
       "    <tr>\n",
       "      <th>97</th>\n",
       "      <td>Chris Young + Kane Brown</td>\n",
       "      <td>Famous Friends</td>\n",
       "    </tr>\n",
       "    <tr>\n",
       "      <th>98</th>\n",
       "      <td>Nelly &amp; Florida Georgia Line</td>\n",
       "      <td>Lil Bit</td>\n",
       "    </tr>\n",
       "    <tr>\n",
       "      <th>99</th>\n",
       "      <td>Megan Thee Stallion</td>\n",
       "      <td>Thot Shit</td>\n",
       "    </tr>\n",
       "  </tbody>\n",
       "</table>\n",
       "<p>100 rows × 2 columns</p>\n",
       "</div>"
      ],
      "text/plain": [
       "                          Artist                            Song\n",
       "0              Dua Lipa & DaBaby                      Levitating\n",
       "1                 Olivia Rodrigo                 Drivers License\n",
       "2     The Weeknd & Ariana Grande                 Save Your Tears\n",
       "3                      Lil Nas X  Montero (Call Me by Your Name)\n",
       "4                     The Weeknd                 Blinding Lights\n",
       "..                           ...                             ...\n",
       "95   Marshmello & Jonas Brothers        Leave Before You Love Me\n",
       "96                      Maneskin                          Beggin\n",
       "97      Chris Young + Kane Brown                  Famous Friends\n",
       "98  Nelly & Florida Georgia Line                         Lil Bit\n",
       "99           Megan Thee Stallion                       Thot Shit\n",
       "\n",
       "[100 rows x 2 columns]"
      ]
     },
     "execution_count": 9,
     "metadata": {},
     "output_type": "execute_result"
    }
   ],
   "source": [
    "\n",
    "\n",
    "Grupo_musicas1 = pd.read_csv ('Grupo_musicas1.csv')\n",
    "Grupo_musicas2 = pd.read_csv ('Grupo_musicas2.csv')\n",
    "\n",
    "Total_Musicas1 = pd.concat([Grupo_musicas1,Grupo_musicas2], axis=0).reset_index(drop=True)\n",
    "Total_Musicas2 = Totas_Musicas1.drop.duplicates(subset = 'Song_code')\n",
    " \n",
    "\n",
    "\n",
    "Top_100= pd.read_excel ('Eurovision_final.xlsx')\n",
    "\n",
    "Top_100\n",
    "\n",
    "    \n",
    "    \n",
    "    "
   ]
  },
  {
   "cell_type": "code",
   "execution_count": null,
   "id": "99088b95",
   "metadata": {},
   "outputs": [],
   "source": []
  },
  {
   "cell_type": "markdown",
   "id": "8b49e747",
   "metadata": {},
   "source": [
    "# Creating a Matrix X to use in the clustering (only the Music´ Features)"
   ]
  },
  {
   "cell_type": "code",
   "execution_count": null,
   "id": "87452e7b",
   "metadata": {},
   "outputs": [],
   "source": [
    "X=Total_Musicas2[['ft_danceability','ft_energy','ft_key','ft_loudness','ft_mode',\n",
    "                 'ft_speechiness','ft_accousticness','ft_instrumentalness','ft_liveness','ft_valence',\n",
    "                 'ft_tempo','ft_track_href','ft_analysis_url','ft_time_signature','ft_duration_ms']]\n",
    "\n"
   ]
  },
  {
   "cell_type": "code",
   "execution_count": null,
   "id": "df723e1c",
   "metadata": {},
   "outputs": [],
   "source": [
    "# Scalling the Matrix X\n",
    "\n",
    "scaler = StandardScaler()\n",
    "X_transf = scaler.fit_transform(X)"
   ]
  },
  {
   "cell_type": "code",
   "execution_count": null,
   "id": "355aaf34",
   "metadata": {},
   "outputs": [],
   "source": []
  },
  {
   "cell_type": "code",
   "execution_count": null,
   "id": "f7521748",
   "metadata": {},
   "outputs": [],
   "source": [
    "# Before we divide the musics into clusters, we need to define how many clusters we should use\n",
    "# STEP_1 - 1st we choose range for the possible nr clusters  (Elbow Method - min Intertia, with a not very high nr of clusters)\n",
    "# STEP_2 - 2nd we choose the optimal nr of clusters (max Silhouette)"
   ]
  },
  {
   "cell_type": "code",
   "execution_count": null,
   "id": "1f41fe5f",
   "metadata": {},
   "outputs": [],
   "source": [
    "# STEP_1 : Elbow Method  (min Intertia)"
   ]
  },
  {
   "cell_type": "code",
   "execution_count": null,
   "id": "bc8eebb3",
   "metadata": {},
   "outputs": [],
   "source": [
    "K = range (2,50)    # we´ll try to build the shape of an Elbow  by making this simulations with up to 50 clusters\n",
    "inertia = []\n",
    "\n",
    "\n",
    "for k in K :    \n",
    "    kmeans = Kmeans(n_clusters=k, random_state=42) \n",
    "    kmeans.fit(X_transf)\n",
    "    inertia.append(kmeans.inertia_)\n",
    "\n",
    "%matplotlib inline\n",
    "\n",
    "plt.figure(figsize=16,8))\n",
    "plt.plot(K, inertia, 'bx-')\n",
    "plt.xlabel('k')\n",
    "plt.ylabel('inertia')\n",
    "plt.xticks(np.aranqe(min(K),max(K)+1,1.0))\n",
    "plt.title('Elbow Method to choose the optimal range for k (nr of clusters)')\n",
    "\n"
   ]
  },
  {
   "cell_type": "code",
   "execution_count": null,
   "id": "6acceb5b",
   "metadata": {},
   "outputs": [],
   "source": [
    "# STEP_2 :   (max Silhouette)  "
   ]
  },
  {
   "cell_type": "code",
   "execution_count": null,
   "id": "3c31e933",
   "metadata": {},
   "outputs": [],
   "source": [
    "K= range(20,25)      # we concluded from the STEP_1 that the optimal nr clusters should be somewhere within this range\n",
    "silhouette = []\n",
    "\n",
    "for k in K :    \n",
    "    kmeans = Kmeans(n_clusters=k, random_state=42) \n",
    "    kmeans.fit(X_transf)\n",
    "    silhouette.append(silhouette_score(X_transf,kmeans.predict(X_transf)))\n",
    "\n",
    "\n",
    "\n",
    "plt.figure(figsize=16,8))\n",
    "plt.plot(K, silhouette, 'bx-')\n",
    "plt.xlabel('k')\n",
    "plt.ylabel('silhouette_score')\n",
    "plt.xticks(np.aranqe(min(K),max(K)+1,1.0))\n",
    "plt.title('Silhouette Score to specify the optimal k nr of clusters')"
   ]
  },
  {
   "cell_type": "code",
   "execution_count": null,
   "id": "7bd8f55c",
   "metadata": {},
   "outputs": [],
   "source": []
  },
  {
   "cell_type": "code",
   "execution_count": null,
   "id": "61d913dc",
   "metadata": {},
   "outputs": [],
   "source": [
    "# We have already determined the optimal nr of Clusters. Now we can apply it to our music"
   ]
  },
  {
   "cell_type": "code",
   "execution_count": null,
   "id": "525b371b",
   "metadata": {},
   "outputs": [],
   "source": [
    "kmeans = KMeans(n_cluster = 22, random_state = 42)\n",
    "kmeans.fit(X_transf)\n"
   ]
  },
  {
   "cell_type": "code",
   "execution_count": null,
   "id": "04813807",
   "metadata": {},
   "outputs": [],
   "source": [
    "clusters= kmeans.predict(X_transf)   # breaks X into 22 clusters"
   ]
  },
  {
   "cell_type": "code",
   "execution_count": null,
   "id": "95b9bab6",
   "metadata": {},
   "outputs": [],
   "source": [
    "clusters   # returns a list with the cluster nr where each music was stored"
   ]
  },
  {
   "cell_type": "code",
   "execution_count": null,
   "id": "89f5b94d",
   "metadata": {},
   "outputs": [],
   "source": [
    "pd.Series(clusters).value_counts()    # nr of songs stored on each of the 30 clusters"
   ]
  },
  {
   "cell_type": "code",
   "execution_count": null,
   "id": "6d57518b",
   "metadata": {},
   "outputs": [],
   "source": []
  },
  {
   "cell_type": "code",
   "execution_count": null,
   "id": "bd33ee54",
   "metadata": {},
   "outputs": [],
   "source": [
    "# adding an additional column with the cluster nr for each music\n",
    "\n",
    "X_transf1=X_transf['clusters']\n"
   ]
  },
  {
   "cell_type": "code",
   "execution_count": null,
   "id": "ae571519",
   "metadata": {},
   "outputs": [],
   "source": []
  },
  {
   "cell_type": "markdown",
   "id": "af933d48",
   "metadata": {},
   "source": [
    "# Song Suggestion"
   ]
  },
  {
   "cell_type": "code",
   "execution_count": 10,
   "id": "8237f682",
   "metadata": {},
   "outputs": [
    {
     "name": "stdout",
     "output_type": "stream",
     "text": [
      "Tell us a song you like : as\n"
     ]
    }
   ],
   "source": [
    "ask_song=input('Tell us a song you like : ')\n",
    "\n"
   ]
  },
  {
   "cell_type": "code",
   "execution_count": null,
   "id": "f2a34728",
   "metadata": {},
   "outputs": [],
   "source": [
    "\n",
    "if  ask_song in list(Top_100['Song']) :\n",
    "    \n",
    "    \n",
    "    # The user chice is in the Top_100 List, then the syggestion will also come from there\n",
    "    \n",
    "    choice=Top_100.sample(1).reset_index(drop=True)\n",
    "    sug_song=choice.iloc[0]['Song']\n",
    "    sug_artist=choice.iloc[0]['Artist']\n",
    "    print(f'That is a Top song. You should also try \"{sug_song}\", from \"{sug_artist}\"')\n",
    "    \n",
    "    \n",
    "     # The user choice is not in the Top_100 List, then the syggestion will also come from the respective cluster\n",
    "    \n",
    "    \n",
    "else :\n",
    "    #Gen_Sug= sp.search(q=ask_song, limit= 10)\n",
    "    #choice2=Gen_Sug.sample(1).reset_index(drop=True)\n",
    "    #sug_song1=choice2['tracks']['items'][0]['name']\n",
    "    #sug_artist1=choice2['tracks']['items'][0]['artists'][0]['name']\n",
    "    sug_uri=choice['tracks']['items'][0]['uri'] \n",
    "    features = sp.audio_features(sug_uri)    # connecting to Spotify in order to retrieve the features for the chosen music\n",
    "    features1=features_ferr(X_transf,features)\n",
    "    clusters_pred=trans_features(X_transf,features1)\n",
    "    av_songs = np.where(X_transf['cluster']==clusters_pred[0])\n",
    "    r=list(av_songs[0])\n",
    "    sug_song\n",
    "    \n",
    "    \n",
    "    \n",
    "    print(f'You should also try \"{sug_song1}\", from \"{sug_artist1}\"')"
   ]
  },
  {
   "cell_type": "code",
   "execution_count": null,
   "id": "cf17a15b",
   "metadata": {},
   "outputs": [],
   "source": []
  },
  {
   "cell_type": "code",
   "execution_count": null,
   "id": "77ca100c",
   "metadata": {},
   "outputs": [],
   "source": []
  },
  {
   "cell_type": "code",
   "execution_count": null,
   "id": "0ce4660d",
   "metadata": {},
   "outputs": [],
   "source": []
  }
 ],
 "metadata": {
  "kernelspec": {
   "display_name": "Python 3 (ipykernel)",
   "language": "python",
   "name": "python3"
  },
  "language_info": {
   "codemirror_mode": {
    "name": "ipython",
    "version": 3
   },
   "file_extension": ".py",
   "mimetype": "text/x-python",
   "name": "python",
   "nbconvert_exporter": "python",
   "pygments_lexer": "ipython3",
   "version": "3.9.7"
  }
 },
 "nbformat": 4,
 "nbformat_minor": 5
}
